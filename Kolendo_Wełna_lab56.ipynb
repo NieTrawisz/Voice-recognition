{
  "nbformat": 4,
  "nbformat_minor": 0,
  "metadata": {
    "kernelspec": {
      "display_name": "Python 3 (ipykernel)",
      "language": "python",
      "name": "python3"
    },
    "language_info": {
      "codemirror_mode": {
        "name": "ipython",
        "version": 3
      },
      "file_extension": ".py",
      "mimetype": "text/x-python",
      "name": "python",
      "nbconvert_exporter": "python",
      "pygments_lexer": "ipython3",
      "version": "3.7.11"
    },
    "colab": {
      "name": "lab3.ipynb",
      "provenance": [],
      "collapsed_sections": [
        "b7PqAugmDoFI",
        "avJmrty3DoFK"
      ]
    }
  },
  "cells": [
    {
      "cell_type": "markdown",
      "metadata": {
        "id": "Ilb788AXDoEY"
      },
      "source": [
        "Celem ćwiczenia jest prezentacja możliwości wykorzystania metod uczenia maszynowego\n",
        "w rozpoznawaniu komend głosowych.\n",
        "\n",
        "Materiałem użytym w ćwiczeniu będą próbki nagrań komend z poprzednich ćwiczeń.\n",
        "Przypomnijmy, w zbiorze jest:\n",
        "- 30 (+szum) komend,\n",
        "- nagranych ok. 1,7-2,4 tys. razy.\n",
        "\n",
        "Treścią zadania jest klasyfikacja komend:\n",
        "- klasa (class) = komenda,\n",
        "- próbka (sample) = nagranie.\n",
        "\n",
        "Ćwiczenie podzielone jest na cztery etapy:\n",
        "1. Ekstrakcja cech z próbek\n",
        "2. Podział próbek na treningowe i testowe\n",
        "3. Uczenie klasyfikatora\n",
        "4. Klasyfikacja nieznanej próbki\n",
        "5. Ocena działania klasyfikatora\n"
      ]
    },
    {
      "cell_type": "code",
      "metadata": {
        "id": "l-0djLtEDoEk"
      },
      "source": [
        "# import bibliotek\n",
        "import os\n",
        "import librosa\n",
        "import pickle\n",
        "import sklearn\n",
        "import numpy\n",
        "from matplotlib import pyplot as plt\n",
        "from sklearn.model_selection import train_test_split"
      ],
      "execution_count": null,
      "outputs": []
    },
    {
      "cell_type": "code",
      "metadata": {
        "id": "INBNJvphDoEm",
        "outputId": "1dfc7f0e-2b76-4a82-8891-b5b1105d4a9d"
      },
      "source": [
        "# 1. Ekstrakcja cech z próbek\n",
        "# Lista ekstraktorów cech: https://librosa.github.io/librosa/feature.html\n",
        "\n",
        "# ścieżka z folderami z nagraniami - próbki:\n",
        "#train_audio_path = 'C://Users/Dell/Desktop/SG/lab3/train/audio'\n",
        "train_audio_path = 'D:/Guosowe/lab3/train/audio'\n",
        "commands = os.listdir(train_audio_path);  \n",
        "\n",
        "# użyjemy MFCC, tj. Mel-frequency cepstral coefficients\n",
        "# jednym z parametrów jest liczba wyjściowych współczynników:\n",
        "n_mfcc = 9\n",
        "\n",
        "# wczytujemy każde nagranie, wykonujemy ekstrakcję i zapamiętujemy jej wynik\n",
        "classes = []\n",
        "class_size = 100 # użyjemy tylko po kilka danych\n",
        "samples = []\n",
        "labels = []\n",
        "print(\"\\nClass: \", end = '')\n",
        "for command in commands:\n",
        "    classes.append(command)\n",
        "    print(command, end = ', ')\n",
        "    sample_num = 0\n",
        "    for file in os.listdir(train_audio_path + '/' + command + '/'):\n",
        "        # print(\".\", end = '')\n",
        "        sample_num += 1\n",
        "        # przykład z MFCC:\n",
        "        # y - waveform, sr - sampling rate, n_mfcc - number of MFCCs to return\n",
        "        y, sr = librosa.load(train_audio_path + '/' + command + '/' + file)\n",
        "        mfcc_seq = librosa.feature.mfcc(y = y, sr = sr, n_mfcc = n_mfcc)\n",
        "        mean_mfcc_seq = []\n",
        "        for feature in mfcc_seq:\n",
        "            mean_mfcc_seq.append(numpy.mean(feature))\n",
        "        samples.append(mean_mfcc_seq)\n",
        "        labels.append(command)\n",
        "        if sample_num == class_size:\n",
        "            break\n",
        "\n",
        "# warto podglądnąć, dla mniejszych n_mfcc, np. 5 co kryje mfcc_seq i mean_mfcc_seq"
      ],
      "execution_count": null,
      "outputs": [
        {
          "name": "stdout",
          "output_type": "stream",
          "text": [
            "\n",
            "Class: bed, bird, cat, dog, down, eight, five, four, go, happy, house, left, marvin, nine, no, off, on, one, right, seven, sheila, six, stop, three, tree, two, up, wow, yes, zero, _background_noise_, "
          ]
        }
      ]
    },
    {
      "cell_type": "code",
      "metadata": {
        "id": "YSqkSpyCDoEp"
      },
      "source": [
        "# zapiszmy bazę do późniejszej pracy\n",
        "database = open('./tmp/database.pkl', 'wb')\n",
        "pickle.dump([classes, samples, labels], database)\n",
        "database.close()"
      ],
      "execution_count": null,
      "outputs": []
    },
    {
      "cell_type": "code",
      "metadata": {
        "id": "0YNOgawGDoEr",
        "outputId": "e1a7dce3-0750-4ec4-86a3-40eb179cc707"
      },
      "source": [
        "# 2. Wybór danych treningowych i testowych\n",
        "\n",
        "# Zautomatyzowany i losowy sposób to użycie:\n",
        "# \"from sklearn.model_selection import train_test_split\" oraz funkcji \"train_test_split()\"\n",
        "\n",
        "# wczytanie danych\n",
        "database = open('./tmp/database.pkl', 'rb')\n",
        "classes, samples, labels = pickle.load(database)\n",
        "database.close()\n",
        "\n",
        "# wybierzmy 10 pierwszych próbek z każdej klasy jako uczące\n",
        "# oraz kolejne 2 z każdej klasy jako testowe\n",
        "# uwaga! train_size + test_size NIE może przekroczyć class_size (poprzedni punkt)\n",
        "train_size = 40\n",
        "test_size = 10\n",
        "train_samples = []\n",
        "train_labels = []\n",
        "test_samples = []\n",
        "test_labels = []\n",
        "for classname in classes:\n",
        "    train_size_index = 0\n",
        "    test_size_index = 0\n",
        "    for i in range(len(labels)):\n",
        "        if labels[i] == classname and train_size_index < train_size:\n",
        "            train_samples.append(samples[i])\n",
        "            train_labels.append(labels[i])\n",
        "            train_size_index += 1\n",
        "        elif labels[i] == classname and test_size_index < test_size:\n",
        "            test_samples.append(samples[i])\n",
        "            test_labels.append(labels[i])\n",
        "            test_size_index += 1\n",
        "        if train_size_index == train_size and test_size_index == test_size:\n",
        "            break\n",
        "            \n",
        "# proszę sprawdzić, czy dane zostały wybrane prawidłowo\n",
        "plt.xticks(rotation=60)\n",
        "plt.hist(test_labels+train_labels,len(classes))\n",
        "plt.hist(train_labels,len(classes))\n",
        "\n",
        "# 3. Uczenie klasyfikatora danymi treningowymi\n",
        "\n",
        "# Lista klasyfikatorów: https://stackabuse.com/overview-of-classification-methods-in-python-with-scikit-learn/\n",
        "# Prosty tutorial: https://www.digitalocean.com/community/tutorials/how-to-build-a-machine-learning-classifier-in-python-with-scikit-learn\n",
        "\n",
        "# skalowanie/normalizacja danych\n",
        "from sklearn.preprocessing import StandardScaler\n",
        "scaler = StandardScaler()\n",
        "scaler.fit(train_samples)\n",
        "train_samples = scaler.transform(train_samples)\n",
        "test_samples = scaler.transform(test_samples)\n",
        "\n",
        "# uczenie\n",
        "from sklearn.neighbors import KNeighborsClassifier\n",
        "k = 5\n",
        "classifier = KNeighborsClassifier(n_neighbors = k)\n",
        "classifier.fit(train_samples, train_labels)\n",
        "\n",
        "\n",
        "# 4. Klasyfikacja nieznanych próbek\n",
        "predicted_labels = classifier.predict(test_samples)\n",
        "    \n",
        "# zobaczmy wynik - zakomentować dla dużych zbiorów\n",
        "#print(test_labels)\n",
        "#print(predicted_labels)\n",
        "\n",
        "\n",
        "# 5. Ocena klasyfikatora\n",
        "# print(test_labels == predicted_labels)\n",
        "quality = numpy.sum(test_labels == predicted_labels) / len(test_labels) * 100;\n",
        "print('Ocena klasyfikatora: %.2f %%' % quality)"
      ],
      "execution_count": null,
      "outputs": [
        {
          "name": "stdout",
          "output_type": "stream",
          "text": [
            "Ocena klasyfikatora: 11.67 %\n"
          ]
        },
        {
          "data": {
            "image/png": "[encoded data removed]",
            "text/plain": [
              "<Figure size 432x288 with 1 Axes>"
            ]
          },
          "metadata": {
            "needs_background": "light"
          },
          "output_type": "display_data"
        }
      ]
    },
    {
      "cell_type": "markdown",
      "metadata": {
        "id": "Ypq50ziNDoEt"
      },
      "source": [
        "## Badanie optymalnego n_mfcc"
      ]
    },
    {
      "cell_type": "code",
      "metadata": {
        "id": "e0VIfrUcDoEw"
      },
      "source": [
        "def QualityForNMfcc(n_mfcc,class_size):\n",
        "    # ścieżka z folderami z nagraniami - próbki:\n",
        "    train_audio_path = 'C://Users/Dell/Desktop/SG/lab3/train/audio'\n",
        "    commands = os.listdir(train_audio_path);  \n",
        "\n",
        "    # wczytujemy każde nagranie, wykonujemy ekstrakcję i zapamiętujemy jej wynik\n",
        "    classes = []\n",
        "    samples = []\n",
        "    labels = []\n",
        "    for command in commands:\n",
        "        classes.append(command)\n",
        "        sample_num = 0\n",
        "        for file in os.listdir(train_audio_path + '/' + command + '/'):\n",
        "            sample_num += 1\n",
        "            # przykład z MFCC:\n",
        "            # y - waveform, sr - sampling rate, n_mfcc - number of MFCCs to return\n",
        "            y, sr = librosa.load(train_audio_path + '/' + command + '/' + file)\n",
        "            mfcc_seq = librosa.feature.mfcc(y = y, sr = sr, n_mfcc = n_mfcc)\n",
        "            mean_mfcc_seq = []\n",
        "            for feature in mfcc_seq:\n",
        "                mean_mfcc_seq.append(numpy.mean(feature))\n",
        "            samples.append(mean_mfcc_seq)\n",
        "            labels.append(command)\n",
        "            if sample_num == class_size:\n",
        "                break\n",
        "    \n",
        "    # wczytujemy każde nagranie, wykonujemy ekstrakcję i zapamiętujemy jej wynik\n",
        "    train_size = 40\n",
        "    test_size = 10\n",
        "    train_samples = []\n",
        "    train_labels = []\n",
        "    test_samples = []\n",
        "    test_labels = []\n",
        "    for classname in classes:\n",
        "        train_size_index = 0\n",
        "        test_size_index = 0\n",
        "        for i in range(len(labels)):\n",
        "            if labels[i] == classname and train_size_index < train_size:\n",
        "                train_samples.append(samples[i])\n",
        "                train_labels.append(labels[i])\n",
        "                train_size_index += 1\n",
        "            elif labels[i] == classname and test_size_index < test_size:\n",
        "                test_samples.append(samples[i])\n",
        "                test_labels.append(labels[i])\n",
        "                test_size_index += 1\n",
        "            if train_size_index == train_size and test_size_index == test_size:\n",
        "                break\n",
        "            \n",
        "    # skalowanie/normalizacja danych\n",
        "    from sklearn.preprocessing import StandardScaler\n",
        "    scaler = StandardScaler()\n",
        "    scaler.fit(train_samples)\n",
        "    train_samples = scaler.transform(train_samples)\n",
        "    test_samples = scaler.transform(test_samples)\n",
        "\n",
        "    # uczenie\n",
        "    from sklearn.neighbors import KNeighborsClassifier\n",
        "    k = 5\n",
        "    classifier = KNeighborsClassifier(n_neighbors = k)\n",
        "    classifier.fit(train_samples, train_labels)\n",
        "\n",
        "    predicted_labels = classifier.predict(test_samples)\n",
        "\n",
        "    quality = numpy.sum(test_labels == predicted_labels) / len(test_labels) * 100;\n",
        "    return quality"
      ],
      "execution_count": null,
      "outputs": []
    },
    {
      "cell_type": "code",
      "metadata": {
        "jupyter": {
          "outputs_hidden": true
        },
        "id": "44i4FPE5DoEz",
        "outputId": "c19afe60-bcd3-4541-ed6c-305e7e4e3d36"
      },
      "source": [
        "QualityForNMfcc(20,50)"
      ],
      "execution_count": null,
      "outputs": [
        {
          "data": {
            "text/plain": [
              "10.333333333333334"
            ]
          },
          "execution_count": 91,
          "metadata": {},
          "output_type": "execute_result"
        }
      ]
    },
    {
      "cell_type": "code",
      "metadata": {
        "id": "KCKF2L_WDoE0",
        "outputId": "de89478d-cf70-4a7a-e6a8-1c42698f1ff2"
      },
      "source": [
        "n_mfcc_tab=[i*10 for i in range(1,11)]\n",
        "quality=[]\n",
        "print(\"\\nNMfcc: \", end = '')\n",
        "for n_mfcc_tmp in n_mfcc_tab:\n",
        "    print(n_mfcc_tmp,end='->')\n",
        "    quality.append(QualityForNMfcc(n_mfcc_tmp,50))\n",
        "\n",
        "plt.scatter(n_mfcc_tab,quality)"
      ],
      "execution_count": null,
      "outputs": [
        {
          "name": "stdout",
          "output_type": "stream",
          "text": [
            "\n",
            "NMfcc: 10->20->30->40->50->60->70->80->90->100->"
          ]
        },
        {
          "data": {
            "text/plain": [
              "<matplotlib.collections.PathCollection at 0x2c8ae39af70>"
            ]
          },
          "execution_count": 92,
          "metadata": {},
          "output_type": "execute_result"
        },
        {
          "data": {
            "image/png": "[encoded data removed]",
            "text/plain": [
              "<Figure size 432x288 with 1 Axes>"
            ]
          },
          "metadata": {
            "needs_background": "light"
          },
          "output_type": "display_data"
        }
      ]
    },
    {
      "cell_type": "code",
      "metadata": {
        "id": "67-zsQEaDoE1",
        "outputId": "a58f219f-64a1-43d6-915a-4b1d03243794"
      },
      "source": [
        "n_mfcc_tab=[i for i in range(1,10)]\n",
        "quality=[]\n",
        "print(\"\\nNMfcc: \", end = '')\n",
        "for n_mfcc_tmp in n_mfcc_tab:\n",
        "    print(n_mfcc_tmp,end='->')\n",
        "    quality.append(QualityForNMfcc(n_mfcc_tmp,50))\n",
        "\n",
        "plt.scatter(n_mfcc_tab,quality)"
      ],
      "execution_count": null,
      "outputs": [
        {
          "name": "stdout",
          "output_type": "stream",
          "text": [
            "\n",
            "NMfcc: 1->2->3->4->5->6->7->8->9->"
          ]
        },
        {
          "data": {
            "text/plain": [
              "<matplotlib.collections.PathCollection at 0x2c8ae625100>"
            ]
          },
          "execution_count": 93,
          "metadata": {},
          "output_type": "execute_result"
        },
        {
          "data": {
            "image/png": "[encoded data removed]",
            "text/plain": [
              "<Figure size 432x288 with 1 Axes>"
            ]
          },
          "metadata": {
            "needs_background": "light"
          },
          "output_type": "display_data"
        }
      ]
    },
    {
      "cell_type": "code",
      "metadata": {
        "id": "ONGjoa80DoE2",
        "outputId": "10d75448-6be1-4516-9a5d-35becefb7f62"
      },
      "source": [
        "n_mfcc_tab=[i+10 for i in range(1,10)]\n",
        "quality=[]\n",
        "print(\"\\nNMfcc: \", end = '')\n",
        "for n_mfcc_tmp in n_mfcc_tab:\n",
        "    print(n_mfcc_tmp,end='->')\n",
        "    quality.append(QualityForNMfcc(n_mfcc_tmp,50))\n",
        "\n",
        "plt.scatter(n_mfcc_tab,quality)"
      ],
      "execution_count": null,
      "outputs": [
        {
          "name": "stdout",
          "output_type": "stream",
          "text": [
            "\n",
            "NMfcc: 11->12->13->14->15->16->17->18->19->"
          ]
        },
        {
          "data": {
            "text/plain": [
              "<matplotlib.collections.PathCollection at 0x2c8addc3610>"
            ]
          },
          "execution_count": 94,
          "metadata": {},
          "output_type": "execute_result"
        },
        {
          "data": {
            "image/png": "[encoded data removed]",
            "text/plain": [
              "<Figure size 432x288 with 1 Axes>"
            ]
          },
          "metadata": {
            "needs_background": "light"
          },
          "output_type": "display_data"
        }
      ]
    },
    {
      "cell_type": "markdown",
      "metadata": {
        "id": "PyM9ZbuGDoE3"
      },
      "source": [
        "### Optymalne n_mfcc=9\n",
        "## Szukanie optymalnego train_size"
      ]
    },
    {
      "cell_type": "code",
      "metadata": {
        "id": "S0mYkDw5DoE3"
      },
      "source": [
        "def trainKNN(train_size,k):\n",
        "    database = open('./tmp/database.pkl', 'rb')\n",
        "    classes, samples, labels = pickle.load(database)\n",
        "    database.close()\n",
        "\n",
        "    # wybierzmy 10 pierwszych próbek z każdej klasy jako uczące\n",
        "    # oraz kolejne 2 z każdej klasy jako testowe\n",
        "    # uwaga! train_size + test_size NIE może przekroczyć class_size (poprzedni punkt)\n",
        "    test_size = 10\n",
        "    train_samples = []\n",
        "    train_labels = []\n",
        "    test_samples = []\n",
        "    test_labels = []\n",
        "    for classname in classes:\n",
        "        train_size_index = 0\n",
        "        test_size_index = 0\n",
        "        for i in range(len(labels)):\n",
        "            if labels[i] == classname and train_size_index < train_size:\n",
        "                train_samples.append(samples[i])\n",
        "                train_labels.append(labels[i])\n",
        "                train_size_index += 1\n",
        "            elif labels[i] == classname and test_size_index < test_size:\n",
        "                test_samples.append(samples[i])\n",
        "                test_labels.append(labels[i])\n",
        "                test_size_index += 1\n",
        "            if train_size_index == train_size and test_size_index == test_size:\n",
        "                break\n",
        "\n",
        "    # skalowanie/normalizacja danych\n",
        "    from sklearn.preprocessing import StandardScaler\n",
        "    scaler = StandardScaler()\n",
        "    scaler.fit(train_samples)\n",
        "    train_samples = scaler.transform(train_samples)\n",
        "    test_samples = scaler.transform(test_samples)\n",
        "\n",
        "    # uczenie\n",
        "    from sklearn.neighbors import KNeighborsClassifier\n",
        "    classifier = KNeighborsClassifier(n_neighbors = k)\n",
        "    classifier.fit(train_samples, train_labels)\n",
        "\n",
        "\n",
        "    predicted_labels = classifier.predict(test_samples)\n",
        "\n",
        "    quality = numpy.sum(test_labels == predicted_labels) / len(test_labels) * 100;\n",
        "    return quality"
      ],
      "execution_count": null,
      "outputs": []
    },
    {
      "cell_type": "code",
      "metadata": {
        "id": "LXsHC93gDoE4",
        "outputId": "f6c1a5d3-6103-43f9-86d4-f54aa0d86d12"
      },
      "source": [
        "trainKNN(40,5)"
      ],
      "execution_count": null,
      "outputs": [
        {
          "data": {
            "text/plain": [
              "11.666666666666666"
            ]
          },
          "execution_count": 185,
          "metadata": {},
          "output_type": "execute_result"
        }
      ]
    },
    {
      "cell_type": "code",
      "metadata": {
        "id": "Fkn4KvM-DoE5",
        "outputId": "36cf1842-17c6-4177-8d10-4218135e5160"
      },
      "source": [
        "test_size_tab=range(20,90)\n",
        "quality_tab=[]\n",
        "for test_size_tmp in test_size_tab:\n",
        "    quality_tab.append(trainKNN(test_size_tmp,5))\n",
        "\n",
        "plt.plot(test_size_tab,quality_tab)"
      ],
      "execution_count": null,
      "outputs": [
        {
          "data": {
            "text/plain": [
              "[<matplotlib.lines.Line2D at 0x2c8af93d550>]"
            ]
          },
          "execution_count": 192,
          "metadata": {},
          "output_type": "execute_result"
        },
        {
          "data": {
            "image/png": "[encoded data removed]",
            "text/plain": [
              "<Figure size 432x288 with 1 Axes>"
            ]
          },
          "metadata": {
            "needs_background": "light"
          },
          "output_type": "display_data"
        }
      ]
    },
    {
      "cell_type": "code",
      "metadata": {
        "id": "SStwY4ypDoE5",
        "outputId": "edfc9d3a-a597-46ab-d204-370c4b35e6c2"
      },
      "source": [
        "quality_tab[57]"
      ],
      "execution_count": null,
      "outputs": [
        {
          "data": {
            "text/plain": [
              "14.666666666666666"
            ]
          },
          "execution_count": 194,
          "metadata": {},
          "output_type": "execute_result"
        }
      ]
    },
    {
      "cell_type": "markdown",
      "metadata": {
        "id": "GWSvWM7DDoE6"
      },
      "source": [
        "### Optymalne train_size=57+20=77\n",
        "## Szukanie optymalnego k"
      ]
    },
    {
      "cell_type": "code",
      "metadata": {
        "id": "TG0GY5b-DoE7",
        "outputId": "7fdcfe34-85f3-40eb-dd08-8b4c7d852bdf"
      },
      "source": [
        "train_size_optimal=77\n",
        "k_tab=range(1,50)\n",
        "quality_tab=[]\n",
        "for k_tmp in k_tab:\n",
        "    quality_tab.append(trainKNN(train_size_optimal,k_tmp))\n",
        "\n",
        "plt.plot(k_tab,quality_tab)"
      ],
      "execution_count": null,
      "outputs": [
        {
          "data": {
            "text/plain": [
              "[<matplotlib.lines.Line2D at 0x2c8af3e4430>]"
            ]
          },
          "execution_count": 196,
          "metadata": {},
          "output_type": "execute_result"
        },
        {
          "data": {
            "image/png": "[encoded data removed]",
            "text/plain": [
              "<Figure size 432x288 with 1 Axes>"
            ]
          },
          "metadata": {
            "needs_background": "light"
          },
          "output_type": "display_data"
        }
      ]
    },
    {
      "cell_type": "code",
      "metadata": {
        "id": "zW9qdSkBDoE8",
        "outputId": "f2ad47fa-30b4-4929-debf-a86c76ac4ff6"
      },
      "source": [
        "print(quality_tab[36])\n",
        "k_optimal=37"
      ],
      "execution_count": null,
      "outputs": [
        {
          "name": "stdout",
          "output_type": "stream",
          "text": [
            "16.333333333333332\n"
          ]
        }
      ]
    },
    {
      "cell_type": "markdown",
      "metadata": {
        "id": "DjklUJcaDoE9"
      },
      "source": [
        "### Optymalne k=37"
      ]
    },
    {
      "cell_type": "code",
      "metadata": {
        "id": "rxjdR2hFDoE9",
        "outputId": "788e0eee-c30d-4e12-a1d6-46d6193d195f"
      },
      "source": [
        "# 2. Wybór danych treningowych i testowych\n",
        "\n",
        "# Zautomatyzowany i losowy sposób to użycie:\n",
        "# \"from sklearn.model_selection import train_test_split\" oraz funkcji \"train_test_split()\"\n",
        "\n",
        "# wczytanie danych\n",
        "database = open('./tmp/database.pkl', 'rb')\n",
        "classes, samples, labels = pickle.load(database)\n",
        "database.close()\n",
        "\n",
        "# wybierzmy 10 pierwszych próbek z każdej klasy jako uczące\n",
        "# oraz kolejne 2 z każdej klasy jako testowe\n",
        "# uwaga! train_size + test_size NIE może przekroczyć class_size (poprzedni punkt)\n",
        "train_size = train_size_optimal\n",
        "test_size = class_size-train_size_optimal\n",
        "train_samples = []\n",
        "train_labels = []\n",
        "test_samples = []\n",
        "test_labels = []\n",
        "for classname in classes:\n",
        "    #losowy podział na zbiór treningowy i walidacyjny\n",
        "    labels_num=0\n",
        "    samples_class=[]\n",
        "    for i in range(len(labels)):\n",
        "        if labels[i] == classname:\n",
        "            samples_class.append(samples[i])\n",
        "            labels_num+=1\n",
        "    labels_class=labels_num*[classname]\n",
        "    if labels_num>(train_size+test_size):\n",
        "        our_data_X,unused_data_X,our_data_y,unused_data_y=train_test_split(samples_class, labels_class, train_size=(train_size+test_size)/labels_num)\n",
        "        train_samples_add,test_samples_add,train_labels_add,test_labels_add=train_test_split(our_data_X, our_data_y, train_size=train_size/(train_size+test_size))\n",
        "    elif labels_num==(train_size+test_size):\n",
        "        train_samples_add,test_samples_add,train_labels_add,test_labels_add=train_test_split(samples_class, labels_class, train_size=train_size/(train_size+test_size))\n",
        "    else:\n",
        "        train_samples_add,test_samples_add,train_labels_add,test_labels_add=train_test_split(samples_class, labels_class, train_size=0.5)    \n",
        "    train_samples+=train_samples_add\n",
        "    test_samples+=test_samples_add\n",
        "    train_labels+=train_labels_add\n",
        "    test_labels+=test_labels_add\n",
        "            \n",
        "# proszę sprawdzić, czy dane zostały wybrane prawidłowo\n",
        "plt.xticks(rotation=60)\n",
        "plt.hist(test_labels+train_labels,len(classes))\n",
        "plt.hist(train_labels,len(classes))\n",
        "\n",
        "\n",
        "# 3. Uczenie klasyfikatora danymi treningowymi\n",
        "\n",
        "# Lista klasyfikatorów: https://stackabuse.com/overview-of-classification-methods-in-python-with-scikit-learn/\n",
        "# Prosty tutorial: https://www.digitalocean.com/community/tutorials/how-to-build-a-machine-learning-classifier-in-python-with-scikit-learn\n",
        "\n",
        "# skalowanie/normalizacja danych\n",
        "from sklearn.preprocessing import StandardScaler\n",
        "scaler = StandardScaler()\n",
        "scaler.fit(train_samples)\n",
        "train_samples = scaler.transform(train_samples)\n",
        "test_samples = scaler.transform(test_samples)\n",
        "\n",
        "# uczenie\n",
        "from sklearn.neighbors import KNeighborsClassifier\n",
        "k = k_optimal\n",
        "classifier = KNeighborsClassifier(n_neighbors = k)\n",
        "classifier.fit(train_samples, train_labels)\n",
        "\n",
        "\n",
        "# 4. Klasyfikacja nieznanych próbek\n",
        "predicted_labels = classifier.predict(test_samples)\n",
        "    \n",
        "# zobaczmy wynik - zakomentować dla dużych zbiorów\n",
        "#print(test_labels)\n",
        "#print(predicted_labels)\n",
        "\n",
        "\n",
        "# 5. Ocena klasyfikatora\n",
        "# print(test_labels == predicted_labels)\n",
        "quality = numpy.sum(test_labels == predicted_labels) / len(test_labels) * 100;\n",
        "print('Ocena klasyfikatora: %.2f %%' % quality)"
      ],
      "execution_count": null,
      "outputs": [
        {
          "name": "stdout",
          "output_type": "stream",
          "text": [
            "Ocena klasyfikatora: 17.46 %\n"
          ]
        },
        {
          "data": {
            "image/png": "[encoded data removed]",
            "text/plain": [
              "<Figure size 432x288 with 1 Axes>"
            ]
          },
          "metadata": {
            "needs_background": "light"
          },
          "output_type": "display_data"
        }
      ]
    },
    {
      "cell_type": "markdown",
      "metadata": {
        "id": "M6XrfUWgDoE_"
      },
      "source": [
        "# SVM"
      ]
    },
    {
      "cell_type": "code",
      "metadata": {
        "id": "aQUVixVhDoFA"
      },
      "source": [
        "def splitSamples(train_size,test_size):\n",
        "    train_samples = []\n",
        "    train_labels = []\n",
        "    test_samples = []\n",
        "    test_labels = []\n",
        "    for classname in classes:\n",
        "        #losowy podział na zbiór treningowy i walidacyjny\n",
        "        labels_num=0\n",
        "        samples_class=[]\n",
        "        for i in range(len(labels)):\n",
        "            if labels[i] == classname:\n",
        "                samples_class.append(samples[i])\n",
        "                labels_num+=1\n",
        "        labels_class=labels_num*[classname]\n",
        "        if labels_num>(train_size+test_size):\n",
        "            our_data_X,unused_data_X,our_data_y,unused_data_y=train_test_split(samples_class, labels_class, train_size=(train_size+test_size)/labels_num)\n",
        "            train_samples_add,test_samples_add,train_labels_add,test_labels_add=train_test_split(our_data_X, our_data_y, train_size=train_size/(train_size+test_size))\n",
        "        elif labels_num==(train_size+test_size):\n",
        "            train_samples_add,test_samples_add,train_labels_add,test_labels_add=train_test_split(samples_class, labels_class, train_size=train_size/(train_size+test_size))\n",
        "        else:\n",
        "            train_samples_add,test_samples_add,train_labels_add,test_labels_add=train_test_split(samples_class, labels_class, train_size=0.5)    \n",
        "        train_samples+=train_samples_add\n",
        "        test_samples+=test_samples_add\n",
        "        train_labels+=train_labels_add\n",
        "        test_labels+=test_labels_add\n",
        "    \n",
        "    # skalowanie/normalizacja danych\n",
        "    from sklearn.preprocessing import StandardScaler\n",
        "    scaler = StandardScaler()\n",
        "    scaler.fit(train_samples)\n",
        "    train_samples = scaler.transform(train_samples)\n",
        "    test_samples = scaler.transform(test_samples)\n",
        "    \n",
        "    return train_samples,test_samples,train_labels,test_labels\n"
      ],
      "execution_count": null,
      "outputs": []
    },
    {
      "cell_type": "markdown",
      "metadata": {
        "id": "K01FqrtaDoFC"
      },
      "source": [
        "### Test dla 9 cech n_mfcc"
      ]
    },
    {
      "cell_type": "code",
      "metadata": {
        "id": "2mkAvNCVDoFD",
        "outputId": "d2f903f8-a5db-4c06-852b-028b2ed5da4a"
      },
      "source": [
        "from sklearn.svm import SVC\n",
        "\n",
        "classifier=SVC(gamma=1.5,C=100)\n",
        "train_samples,test_samples,train_labels,test_labels=splitSamples(80,20)\n",
        "classifier.fit(train_samples, train_labels)\n",
        "score = classifier.score(train_samples, train_labels)\n",
        "print(score)\n",
        "score = classifier.score(test_samples, test_labels)\n",
        "print(score)"
      ],
      "execution_count": null,
      "outputs": [
        {
          "name": "stdout",
          "output_type": "stream",
          "text": [
            "1.0\n",
            "0.38474295190713104\n"
          ]
        }
      ]
    },
    {
      "cell_type": "markdown",
      "metadata": {
        "id": "py91_WuiDoFD"
      },
      "source": [
        "### Optymalzacja parametrów"
      ]
    },
    {
      "cell_type": "code",
      "metadata": {
        "id": "N4fHYyO8DoFE",
        "outputId": "b66b8c39-fd07-4b46-d9b6-92380f399681"
      },
      "source": [
        "from scipy import optimize as opt\n",
        "train_samples,test_samples,train_labels,test_labels=splitSamples(80,20)\n",
        "def score(gammaC):\n",
        "    classifier=SVC(gamma=np.abs(gammaC[0]),C=np.abs(gammaC[1]))\n",
        "    classifier.fit(train_samples, train_labels)\n",
        "    score = classifier.score(test_samples, test_labels)\n",
        "    return -score\n",
        "print(opt.minimize(score,np.array([1.5,100]),method='powell'))"
      ],
      "execution_count": null,
      "outputs": [
        {
          "name": "stdout",
          "output_type": "stream",
          "text": [
            "   direc: array([[ 0.00000000e+00,  1.00000000e+00],\n",
            "       [-7.31047568e-12,  2.87753313e-11]])\n",
            "     fun: -0.39800995024875624\n",
            " message: 'Optimization terminated successfully.'\n",
            "    nfev: 100\n",
            "     nit: 2\n",
            "  status: 0\n",
            " success: True\n",
            "       x: array([  0.84252741, 105.17585792])\n"
          ]
        }
      ]
    },
    {
      "cell_type": "code",
      "metadata": {
        "id": "Df5q69EEDoFE",
        "outputId": "9fb18bd7-a6a3-4aed-f5a3-35201c8f8455"
      },
      "source": [
        "classifier=SVC(gamma=0.72752185,C=105.17585792)\n",
        "classifier.fit(train_samples, train_labels)\n",
        "score = classifier.score(test_samples, test_labels)\n",
        "print(score)"
      ],
      "execution_count": null,
      "outputs": [
        {
          "name": "stdout",
          "output_type": "stream",
          "text": [
            "0.3963515754560531\n"
          ]
        }
      ]
    },
    {
      "cell_type": "markdown",
      "metadata": {
        "id": "_HAp5xF7DoFE"
      },
      "source": [
        "### Optymalne n_mfcc oraz parametry gamma i C"
      ]
    },
    {
      "cell_type": "code",
      "metadata": {
        "id": "7-J4K64EDoFF"
      },
      "source": [
        "from scipy import optimize as opt\n",
        "from sklearn.svm import SVC\n",
        "def QualityForNMfccSVM(n_mfcc,train_size,test_size):\n",
        "    # ścieżka z folderami z nagraniami - próbki:\n",
        "    commands = os.listdir(train_audio_path);  \n",
        "\n",
        "    # wczytujemy każde nagranie, wykonujemy ekstrakcję i zapamiętujemy jej wynik\n",
        "    classes = []\n",
        "    samples = []\n",
        "    labels = []\n",
        "    class_size=train_size+test_size\n",
        "    for command in commands:\n",
        "        classes.append(command)\n",
        "        sample_num = 0\n",
        "        for file in os.listdir(train_audio_path + '/' + command + '/'):\n",
        "            sample_num += 1\n",
        "            # przykład z MFCC:\n",
        "            # y - waveform, sr - sampling rate, n_mfcc - number of MFCCs to return\n",
        "            y, sr = librosa.load(train_audio_path + '/' + command + '/' + file)\n",
        "            mfcc_seq = librosa.feature.mfcc(y = y, sr = sr, n_mfcc = n_mfcc)\n",
        "            mean_mfcc_seq = []\n",
        "            for feature in mfcc_seq:\n",
        "                mean_mfcc_seq.append(numpy.mean(feature))\n",
        "            samples.append(mean_mfcc_seq)\n",
        "            labels.append(command)\n",
        "            if sample_num == class_size:\n",
        "                break\n",
        "    \n",
        "    train_samples,test_samples,train_labels,test_labels=splitSamples(train_size,test_size)\n",
        "    def score(gammaC):\n",
        "        classifier=SVC(gamma=numpy.abs(gammaC[0]),C=numpy.abs(gammaC[1]))\n",
        "        classifier.fit(train_samples, train_labels)\n",
        "        score = classifier.score(test_samples, test_labels)\n",
        "        return -score\n",
        "    result=opt.minimize(score,numpy.array([1.5,100]),method='powell')\n",
        "    return -result.fun,result.x"
      ],
      "execution_count": null,
      "outputs": []
    },
    {
      "cell_type": "code",
      "metadata": {
        "id": "yEtOwftFDoFF",
        "outputId": "d67dcd9d-0072-4337-d7ea-e2e308352d69"
      },
      "source": [
        "QualityForNMfccSVM(9,40,10)"
      ],
      "execution_count": null,
      "outputs": [
        {
          "data": {
            "text/plain": [
              "(0.3069306930693069, array([8.84726533e-02, 1.02624452e+02]))"
            ]
          },
          "execution_count": 32,
          "metadata": {},
          "output_type": "execute_result"
        }
      ]
    },
    {
      "cell_type": "code",
      "metadata": {
        "id": "360WfifWDoFG",
        "outputId": "97fe6235-bc6a-45b2-f1b1-d9686ca339f9"
      },
      "source": [
        "n_mfcc_tab=[i*10 for i in range(1,11)]\n",
        "quality_tab=[]\n",
        "params_tab=[]\n",
        "print(\"\\nNMfcc: \", end = '')\n",
        "for n_mfcc_tmp in n_mfcc_tab:\n",
        "    print(n_mfcc_tmp,end='->')\n",
        "    quality,params=QualityForNMfccSVM(n_mfcc_tmp,40,10)\n",
        "    quality_tab.append(quality)\n",
        "    params_tab.append(params)\n",
        "\n",
        "plt.scatter(n_mfcc_tab,quality_tab)"
      ],
      "execution_count": null,
      "outputs": [
        {
          "name": "stdout",
          "output_type": "stream",
          "text": [
            "\n",
            "NMfcc: 10->20->30->40->50->60->70->80->90->100->"
          ]
        },
        {
          "data": {
            "text/plain": [
              "<matplotlib.collections.PathCollection at 0x15d6f574e88>"
            ]
          },
          "execution_count": 33,
          "metadata": {},
          "output_type": "execute_result"
        },
        {
          "data": {
            "image/png": "[encoded data removed]",
            "text/plain": [
              "<Figure size 432x288 with 1 Axes>"
            ]
          },
          "metadata": {
            "needs_background": "light"
          },
          "output_type": "display_data"
        }
      ]
    },
    {
      "cell_type": "code",
      "metadata": {
        "id": "SUIwGYc0DoFG",
        "outputId": "450692d9-0109-41ba-dfc7-1d9a0dafd90c"
      },
      "source": [
        "n_mfcc_tab=[i for i in range(1,10)]\n",
        "quality_tab=[]\n",
        "params_tab=[]\n",
        "print(\"\\nNMfcc: \", end = '')\n",
        "for n_mfcc_tmp in n_mfcc_tab:\n",
        "    print(n_mfcc_tmp,end='->')\n",
        "    quality,params=QualityForNMfccSVM(n_mfcc_tmp,40,10)\n",
        "    quality_tab.append(quality)\n",
        "    params_tab.append(params)\n",
        "\n",
        "plt.scatter(n_mfcc_tab,quality_tab)"
      ],
      "execution_count": null,
      "outputs": [
        {
          "name": "stdout",
          "output_type": "stream",
          "text": [
            "\n",
            "NMfcc: 1->2->3->4->5->6->7->8->9->"
          ]
        },
        {
          "data": {
            "text/plain": [
              "<matplotlib.collections.PathCollection at 0x15d6fbf2ac8>"
            ]
          },
          "execution_count": 34,
          "metadata": {},
          "output_type": "execute_result"
        },
        {
          "data": {
            "image/png": "[encoded data removed]",
            "text/plain": [
              "<Figure size 432x288 with 1 Axes>"
            ]
          },
          "metadata": {
            "needs_background": "light"
          },
          "output_type": "display_data"
        }
      ]
    },
    {
      "cell_type": "code",
      "metadata": {
        "id": "YoS3R1DDDoFG",
        "outputId": "19136a4b-d7b5-4418-b342-6d075573cbbf"
      },
      "source": [
        "n_mfcc_tab=[i+50 for i in range(1,10)]\n",
        "quality_tab=[]\n",
        "params_tab=[]\n",
        "print(\"\\nNMfcc: \", end = '')\n",
        "for n_mfcc_tmp in n_mfcc_tab:\n",
        "    print(n_mfcc_tmp,end='->')\n",
        "    quality,params=QualityForNMfccSVM(n_mfcc_tmp,40,10)\n",
        "    quality_tab.append(quality)\n",
        "    params_tab.append(params)\n",
        "\n",
        "plt.scatter(n_mfcc_tab,quality_tab)"
      ],
      "execution_count": null,
      "outputs": [
        {
          "name": "stdout",
          "output_type": "stream",
          "text": [
            "\n",
            "NMfcc: 51->52->53->54->55->56->57->58->59->"
          ]
        },
        {
          "data": {
            "text/plain": [
              "<matplotlib.collections.PathCollection at 0x15d6fb1d908>"
            ]
          },
          "execution_count": 35,
          "metadata": {},
          "output_type": "execute_result"
        },
        {
          "data": {
            "image/png": "[encoded data removed]",
            "text/plain": [
              "<Figure size 432x288 with 1 Axes>"
            ]
          },
          "metadata": {
            "needs_background": "light"
          },
          "output_type": "display_data"
        }
      ]
    },
    {
      "cell_type": "code",
      "metadata": {
        "id": "SGxL0kaMDoFH",
        "outputId": "6acb74a9-37aa-49f6-f047-57db9d1547cd"
      },
      "source": [
        "quality_tab[2]"
      ],
      "execution_count": null,
      "outputs": [
        {
          "data": {
            "text/plain": [
              "0.35313531353135313"
            ]
          },
          "execution_count": 40,
          "metadata": {},
          "output_type": "execute_result"
        }
      ]
    },
    {
      "cell_type": "code",
      "metadata": {
        "id": "oK2A6cc1DoFH",
        "outputId": "13a4da36-fbdc-439a-95c3-b83a33552ae0"
      },
      "source": [
        "params_tab[2]"
      ],
      "execution_count": null,
      "outputs": [
        {
          "data": {
            "text/plain": [
              "array([  0.64589804, 105.17585792])"
            ]
          },
          "execution_count": 41,
          "metadata": {},
          "output_type": "execute_result"
        }
      ]
    },
    {
      "cell_type": "markdown",
      "metadata": {
        "id": "b7PqAugmDoFI"
      },
      "source": [
        "### Optymalne n_mfcc=53\n",
        "### Optymalne gamma=0.65\n",
        "### Optymalne C=105.2"
      ]
    },
    {
      "cell_type": "markdown",
      "metadata": {
        "id": "lnLXfvf6DoFI"
      },
      "source": [
        "# Gaussian Process"
      ]
    },
    {
      "cell_type": "code",
      "metadata": {
        "id": "p0gBYKp5DoFI"
      },
      "source": [
        "from sklearn.gaussian_process import GaussianProcessClassifier\n",
        "def QualityForNMfccGaussian(n_mfcc,train_size,test_size):\n",
        "    # ścieżka z folderami z nagraniami - próbki:\n",
        "    commands = os.listdir(train_audio_path);  \n",
        "\n",
        "    # wczytujemy każde nagranie, wykonujemy ekstrakcję i zapamiętujemy jej wynik\n",
        "    classes = []\n",
        "    samples = []\n",
        "    labels = []\n",
        "    class_size=train_size+test_size\n",
        "    for command in commands:\n",
        "        classes.append(command)\n",
        "        sample_num = 0\n",
        "        for file in os.listdir(train_audio_path + '/' + command + '/'):\n",
        "            sample_num += 1\n",
        "            # przykład z MFCC:\n",
        "            # y - waveform, sr - sampling rate, n_mfcc - number of MFCCs to return\n",
        "            y, sr = librosa.load(train_audio_path + '/' + command + '/' + file)\n",
        "            mfcc_seq = librosa.feature.mfcc(y = y, sr = sr, n_mfcc = n_mfcc)\n",
        "            mean_mfcc_seq = []\n",
        "            for feature in mfcc_seq:\n",
        "                mean_mfcc_seq.append(numpy.mean(feature))\n",
        "            samples.append(mean_mfcc_seq)\n",
        "            labels.append(command)\n",
        "            if sample_num == class_size:\n",
        "                break\n",
        "    \n",
        "    train_samples,test_samples,train_labels,test_labels=splitSamples(train_size,test_size)\n",
        "    classifier=GaussianProcessClassifier();\n",
        "    classifier.fit(train_samples, train_labels)\n",
        "    return classifier.score(test_samples, test_labels)"
      ],
      "execution_count": null,
      "outputs": []
    },
    {
      "cell_type": "code",
      "metadata": {
        "id": "4vSAA1udDoFJ",
        "outputId": "598f9f46-3fa3-4989-9e1c-d9ba121db153"
      },
      "source": [
        "QualityForNMfccGaussian(9,40,10)"
      ],
      "execution_count": null,
      "outputs": [
        {
          "data": {
            "text/plain": [
              "0.24752475247524752"
            ]
          },
          "execution_count": 18,
          "metadata": {},
          "output_type": "execute_result"
        }
      ]
    },
    {
      "cell_type": "code",
      "metadata": {
        "id": "rem_1WbrDoFJ",
        "outputId": "3b3d0a43-a507-4b56-ae09-c5b55a971587"
      },
      "source": [
        "n_mfcc_tab=[i*10 for i in range(1,10)]\n",
        "quality_tab=[]\n",
        "print(\"\\nNMfcc: \", end = '')\n",
        "for n_mfcc_tmp in n_mfcc_tab:\n",
        "    print(n_mfcc_tmp,end='->')\n",
        "    quality_tab.append(QualityForNMfccGaussian(n_mfcc_tmp,40,10))\n",
        "\n",
        "plt.scatter(n_mfcc_tab,quality_tab)"
      ],
      "execution_count": null,
      "outputs": [
        {
          "name": "stdout",
          "output_type": "stream",
          "text": [
            "\n",
            "NMfcc: 10->20->30->40->50->60->70->80->90->"
          ]
        },
        {
          "data": {
            "text/plain": [
              "<matplotlib.collections.PathCollection at 0x1fc5c082b08>"
            ]
          },
          "execution_count": 19,
          "metadata": {},
          "output_type": "execute_result"
        },
        {
          "data": {
            "image/png": "[encoded data removed]",
            "text/plain": [
              "<Figure size 432x288 with 1 Axes>"
            ]
          },
          "metadata": {
            "needs_background": "light"
          },
          "output_type": "display_data"
        }
      ]
    },
    {
      "cell_type": "code",
      "metadata": {
        "id": "SEodEAixDoFJ",
        "outputId": "3b699f59-dce2-46a4-da79-eeb1152b98da"
      },
      "source": [
        "n_mfcc_tab=[i for i in range(1,10)]\n",
        "quality_tab=[]\n",
        "print(\"\\nNMfcc: \", end = '')\n",
        "for n_mfcc_tmp in n_mfcc_tab:\n",
        "    print(n_mfcc_tmp,end='->')\n",
        "    quality_tab.append(QualityForNMfccGaussian(n_mfcc_tmp,40,10))\n",
        "\n",
        "plt.scatter(n_mfcc_tab,quality_tab)"
      ],
      "execution_count": null,
      "outputs": [
        {
          "name": "stdout",
          "output_type": "stream",
          "text": [
            "\n",
            "NMfcc: 1->2->3->4->5->6->7->8->9->"
          ]
        },
        {
          "data": {
            "text/plain": [
              "<matplotlib.collections.PathCollection at 0x1fc5b6e0a48>"
            ]
          },
          "execution_count": 20,
          "metadata": {},
          "output_type": "execute_result"
        },
        {
          "data": {
            "image/png": "[encoded data removed]",
            "text/plain": [
              "<Figure size 432x288 with 1 Axes>"
            ]
          },
          "metadata": {
            "needs_background": "light"
          },
          "output_type": "display_data"
        }
      ]
    },
    {
      "cell_type": "code",
      "metadata": {
        "id": "Ct4A4EVKDoFK",
        "outputId": "f5966673-2ad2-4a60-ae82-8da2c75bd415"
      },
      "source": [
        "n_mfcc_tab=[i+30 for i in range(1,10)]\n",
        "quality_tab=[]\n",
        "print(\"\\nNMfcc: \", end = '')\n",
        "for n_mfcc_tmp in n_mfcc_tab:\n",
        "    print(n_mfcc_tmp,end='->')\n",
        "    quality_tab.append(QualityForNMfccGaussian(n_mfcc_tmp,40,10))\n",
        "\n",
        "plt.scatter(n_mfcc_tab,quality_tab)"
      ],
      "execution_count": null,
      "outputs": [
        {
          "name": "stdout",
          "output_type": "stream",
          "text": [
            "\n",
            "NMfcc: 31->32->33->34->35->36->37->38->39->"
          ]
        },
        {
          "data": {
            "text/plain": [
              "<matplotlib.collections.PathCollection at 0x1fc5c08c0c8>"
            ]
          },
          "execution_count": 21,
          "metadata": {},
          "output_type": "execute_result"
        },
        {
          "data": {
            "image/png": "[encoded data removed]",
            "text/plain": [
              "<Figure size 432x288 with 1 Axes>"
            ]
          },
          "metadata": {
            "needs_background": "light"
          },
          "output_type": "display_data"
        }
      ]
    },
    {
      "cell_type": "markdown",
      "metadata": {
        "id": "avJmrty3DoFK"
      },
      "source": [
        "### Optymalne n_mfcc=32"
      ]
    },
    {
      "cell_type": "markdown",
      "metadata": {
        "id": "UJXP4juyDoFK"
      },
      "source": [
        "# Neural Net"
      ]
    },
    {
      "cell_type": "code",
      "metadata": {
        "id": "rZADCHjdDoFL"
      },
      "source": [
        "from sklearn.neural_network import MLPClassifier\n",
        "layers_num_tab=[i for i in range(5,10)]\n",
        "neuron_per_layer_tab=[i for i in range(5,10)]\n",
        "def QualityForNMfccNN(n_mfcc,train_size,test_size):\n",
        "    # ścieżka z folderami z nagraniami - próbki:\n",
        "    commands = os.listdir(train_audio_path);  \n",
        "\n",
        "    # wczytujemy każde nagranie, wykonujemy ekstrakcję i zapamiętujemy jej wynik\n",
        "    classes = []\n",
        "    samples = []\n",
        "    labels = []\n",
        "    class_size=train_size+test_size\n",
        "    for command in commands:\n",
        "        classes.append(command)\n",
        "        sample_num = 0\n",
        "        for file in os.listdir(train_audio_path + '/' + command + '/'):\n",
        "            sample_num += 1\n",
        "            # przykład z MFCC:\n",
        "            # y - waveform, sr - sampling rate, n_mfcc - number of MFCCs to return\n",
        "            y, sr = librosa.load(train_audio_path + '/' + command + '/' + file)\n",
        "            mfcc_seq = librosa.feature.mfcc(y = y, sr = sr, n_mfcc = n_mfcc)\n",
        "            mean_mfcc_seq = []\n",
        "            for feature in mfcc_seq:\n",
        "                mean_mfcc_seq.append(numpy.mean(feature))\n",
        "            samples.append(mean_mfcc_seq)\n",
        "            labels.append(command)\n",
        "            if sample_num == class_size:\n",
        "                break\n",
        "    \n",
        "    train_samples,test_samples,train_labels,test_labels=splitSamples(train_size,test_size)\n",
        "    best_score=0\n",
        "    for layers in layers_num_tab:\n",
        "        for neurons in neuron_per_layer_tab:\n",
        "            clf=MLPClassifier(hidden_layer_sizes=tuple(neurons for i in range(layers)),alpha=10, max_iter=100000,activation='logistic')\n",
        "            clf.fit(train_samples,train_labels)\n",
        "            if clf.score(test_samples,test_labels)>best_score:\n",
        "                best_score=clf.score(test_samples,test_labels)\n",
        "                best_layers=layers\n",
        "                best_neurons=neurons\n",
        "    return best_score,best_layers,best_neurons"
      ],
      "execution_count": null,
      "outputs": []
    },
    {
      "cell_type": "code",
      "metadata": {
        "scrolled": false,
        "id": "1Z04o92pDoFL",
        "outputId": "83d2a3fb-3984-402e-d266-ecbb72540059"
      },
      "source": [
        "QualityForNMfccNN(60,40,10)"
      ],
      "execution_count": null,
      "outputs": [
        {
          "data": {
            "text/plain": [
              "(0.033003300330033, 5, 5)"
            ]
          },
          "execution_count": 28,
          "metadata": {},
          "output_type": "execute_result"
        }
      ]
    },
    {
      "cell_type": "code",
      "metadata": {
        "id": "4v0xBvujDoFM",
        "outputId": "3ce3c16c-2136-44c1-d3c7-c2629eccf498"
      },
      "source": [
        "n_mfcc_tab=[i*10 for i in range(1,11)]\n",
        "quality_tab=[]\n",
        "layers_tab=[]\n",
        "neurons_tab=[]\n",
        "print(\"\\nNMfcc: \", end = '')\n",
        "for n_mfcc_tmp in n_mfcc_tab:\n",
        "    print(n_mfcc_tmp,end='->')\n",
        "    quality,layers,neurons=QualityForNMfccNN(n_mfcc_tmp,40,10)\n",
        "    quality_tab.append(quality)\n",
        "    layers_tab.append(layers)\n",
        "    neurons_tab.append(neurons)\n",
        "\n",
        "plt.scatter(n_mfcc_tab,quality_tab)"
      ],
      "execution_count": null,
      "outputs": [
        {
          "name": "stdout",
          "output_type": "stream",
          "text": [
            "\n",
            "NMfcc: 10->20->30->40->50->60->70->80->90->100->"
          ]
        },
        {
          "data": {
            "text/plain": [
              "<matplotlib.collections.PathCollection at 0x15d701d4c88>"
            ]
          },
          "execution_count": 29,
          "metadata": {},
          "output_type": "execute_result"
        },
        {
          "data": {
            "image/png": "[encoded data removed]",
            "text/plain": [
              "<Figure size 432x288 with 1 Axes>"
            ]
          },
          "metadata": {
            "needs_background": "light"
          },
          "output_type": "display_data"
        }
      ]
    },
    {
      "cell_type": "code",
      "metadata": {
        "id": "8smwJ4zGDoFM",
        "outputId": "ead055b3-2292-4857-b37a-28c185b08346"
      },
      "source": [
        "n_mfcc_tab=[i for i in range(1,10)]\n",
        "quality_tab=[]\n",
        "layers_tab=[]\n",
        "neurons_tab=[]\n",
        "print(\"\\nNMfcc: \", end = '')\n",
        "for n_mfcc_tmp in n_mfcc_tab:\n",
        "    print(n_mfcc_tmp,end='->')\n",
        "    quality,layers,neurons=QualityForNMfccNN(n_mfcc_tmp,40,10)\n",
        "    quality_tab.append(quality)\n",
        "    layers_tab.append(layers)\n",
        "    neurons_tab.append(neurons)\n",
        "\n",
        "plt.scatter(n_mfcc_tab,quality_tab)"
      ],
      "execution_count": null,
      "outputs": [
        {
          "name": "stdout",
          "output_type": "stream",
          "text": [
            "\n",
            "NMfcc: 1->2->3->4->5->6->7->8->9->"
          ]
        },
        {
          "data": {
            "text/plain": [
              "<matplotlib.collections.PathCollection at 0x15d6f774248>"
            ]
          },
          "execution_count": 30,
          "metadata": {},
          "output_type": "execute_result"
        },
        {
          "data": {
            "image/png": "[encoded data removed]",
            "text/plain": [
              "<Figure size 432x288 with 1 Axes>"
            ]
          },
          "metadata": {
            "needs_background": "light"
          },
          "output_type": "display_data"
        }
      ]
    },
    {
      "cell_type": "markdown",
      "metadata": {
        "id": "C4MTiyi7DoFN"
      },
      "source": [
        "## Najlepszy model: SVM z optymlnymi n_mfcc i parametramie gamma oraz C dający wynik 35% na zbiorze walidacyjnym"
      ]
    },
    {
      "cell_type": "code",
      "metadata": {
        "id": "XBZ-dhvODoFN"
      },
      "source": [
        ""
      ],
      "execution_count": null,
      "outputs": []
    }
  ]
}